{
  "nbformat": 4,
  "nbformat_minor": 0,
  "metadata": {
    "colab": {
      "provenance": []
    },
    "kernelspec": {
      "name": "python3",
      "display_name": "Python 3"
    },
    "language_info": {
      "name": "python"
    }
  },
  "cells": [
    {
      "cell_type": "code",
      "source": [
        "import requests\n",
        "import pandas as pd\n",
        "\n",
        "\n",
        "years = list(range(1980, 2025))\n",
        "monthly_data = []\n",
        "\n",
        "for year in years:\n",
        "    for month in range(1, 13):\n",
        "        url = f\"https://philippschmitt.github.io/ppm/v1/{year}/{month}/\"\n",
        "        response = requests.get(url)\n",
        "        if response.status_code == 200:\n",
        "            data = response.json()\n",
        "            monthly_data.append(data)\n",
        "        else:\n",
        "            print(f\"Missing data for {year}-{month:02}\")\n",
        "\n",
        "\n",
        "df = pd.DataFrame(monthly_data)\n",
        "\n",
        "\n",
        "df['date'] = pd.to_datetime(df['year'].astype(str) + '-' + df['month'].astype(str).str.zfill(2))\n",
        "\n",
        "\n",
        "df = df[['date', 'year', 'month', 'ppm']]\n",
        "df = df.rename(columns={'ppm': 'co2_ppm'})\n",
        "\n",
        "\n",
        "csv_filename = \"global_monthly_co2_1980_2024.csv\"\n",
        "df.to_csv(csv_filename, index=False)\n",
        "\n",
        "print(f\"Saved data to {csv_filename}\")\n"
      ],
      "metadata": {
        "colab": {
          "base_uri": "https://localhost:8080/"
        },
        "id": "Rpgz_Um3nLL8",
        "outputId": "e89920fd-f38b-4eb2-fbd2-cfec42789df3"
      },
      "execution_count": 7,
      "outputs": [
        {
          "output_type": "stream",
          "name": "stdout",
          "text": [
            "Saved data to global_monthly_co2_1980_2024.csv\n"
          ]
        }
      ]
    },
    {
      "cell_type": "code",
      "source": [
        "import json\n",
        "\n",
        "years = list(range(1980, 2025))\n",
        "raw_json_data = []\n",
        "\n",
        "for year in years:\n",
        "    for month in range(1, 13):\n",
        "        url = f\"https://philippschmitt.github.io/ppm/v1/{year}/{month}/\"\n",
        "        response = requests.get(url)\n",
        "        if response.status_code == 200:\n",
        "            data = response.json()\n",
        "            raw_json_data.append(data)\n",
        "        else:\n",
        "            print(f\"Data not available for {year}-{month:02}\")\n",
        "\n",
        "\n",
        "with open(\"co2_raw_data_1980_2024.json\", \"w\") as f:\n",
        "    json.dump(raw_json_data, f, indent=2)\n",
        "\n",
        "print(\"Saved raw JSON data to co2_raw_data_1980_2024.json\")"
      ],
      "metadata": {
        "colab": {
          "base_uri": "https://localhost:8080/"
        },
        "id": "iu0eLD0on1IQ",
        "outputId": "755263a3-c562-4137-f708-75db0c172c6e"
      },
      "execution_count": 8,
      "outputs": [
        {
          "output_type": "stream",
          "name": "stdout",
          "text": [
            "Saved raw JSON data to co2_raw_data_1980_2024.json\n"
          ]
        }
      ]
    },
    {
      "cell_type": "code",
      "source": [],
      "metadata": {
        "id": "T7Xiyh0ZHe17"
      },
      "execution_count": null,
      "outputs": []
    }
  ]
}